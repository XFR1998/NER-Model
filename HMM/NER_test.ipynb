{
 "cells": [
  {
   "cell_type": "code",
   "execution_count": 1,
   "metadata": {},
   "outputs": [],
   "source": [
    "from HMM_model import *"
   ]
  },
  {
   "cell_type": "code",
   "execution_count": 2,
   "metadata": {},
   "outputs": [
    {
     "name": "stdout",
     "output_type": "stream",
     "text": [
      "initialize training...\n",
      "estimating transition and initial probabilities...\n",
      "estimating emission probabilities...\n",
      "DONE!\n",
      "我_O|在_O|中_B-LOC|国_I-LOC|吃_O|美_B-LOC|国_I-LOC|的_O|面_O|包_O|"
     ]
    },
    {
     "name": "stderr",
     "output_type": "stream",
     "text": [
      "100%|██████████| 55389/55389 [00:01<00:00, 43551.19it/s]\n",
      "100%|██████████| 55389/55389 [00:01<00:00, 49676.26it/s]\n"
     ]
    }
   ],
   "source": [
    "model = HMM_NER(char2idx_path=\"./dicts/char2idx.json\",\n",
    "                tag2idx_path=\"./dicts/tag2idx.json\")\n",
    "model.fit(\"./corpus/train_data.txt\")\n",
    "model.predict(\"我在中国吃美国的面包\")"
   ]
  },
  {
   "cell_type": "code",
   "execution_count": 4,
   "metadata": {},
   "outputs": [
    {
     "name": "stdout",
     "output_type": "stream",
     "text": [
      "徐_B-PER|福_I-PER|仁_I-PER|在_O|珠_B-LOC|海_I-LOC|玩_O|"
     ]
    }
   ],
   "source": [
    "text = \"徐福仁在珠海玩\"\n",
    "model.predict(text)"
   ]
  },
  {
   "cell_type": "code",
   "execution_count": null,
   "metadata": {},
   "outputs": [],
   "source": []
  }
 ],
 "metadata": {
  "kernelspec": {
   "display_name": "Python 3",
   "language": "python",
   "name": "python3"
  },
  "language_info": {
   "codemirror_mode": {
    "name": "ipython",
    "version": 3
   },
   "file_extension": ".py",
   "mimetype": "text/x-python",
   "name": "python",
   "nbconvert_exporter": "python",
   "pygments_lexer": "ipython3",
   "version": "3.6.8"
  }
 },
 "nbformat": 4,
 "nbformat_minor": 2
}