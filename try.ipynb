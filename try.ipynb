{
 "cells": [
  {
   "cell_type": "code",
   "execution_count": 11,
   "metadata": {
    "collapsed": true
   },
   "outputs": [
    {
     "name": "stderr",
     "output_type": "stream",
     "text": [
      "Paddle enabled successfully......\n"
     ]
    },
    {
     "name": "stdout",
     "output_type": "stream",
     "text": [
      "['张瑞龙']\n"
     ]
    }
   ],
   "source": [
    "import pandas as pd\n",
    "import jieba\n",
    "import jieba.posseg as pseg\n",
    "jieba.enable_paddle()\n",
    "\n",
    "def get_per_list(text):\n",
    "    per_list = []  # 人名列表\n",
    "    word_list = jieba.lcut(text)\n",
    "    # print(word_list)\n",
    "    for word in word_list:\n",
    "        if len(word)==1:  # 不加判断会爆\n",
    "            continue\n",
    "        words = pseg.cut(word, use_paddle=True)  # paddle模式\n",
    "        # print(list(words))\n",
    "        word, flag = list(words)[0]\n",
    "        if flag=='PER':  # 这里写成LOC是地名\n",
    "            per_list.append(word)\n",
    "    per_list = list(set(per_list))\n",
    "\n",
    "    return per_list\n",
    "text = '张瑞龙毕业于华中农业大学'\n",
    "per_list = get_per_list(text)\n",
    "print(per_list)\n",
    "\n"
   ]
  },
  {
   "cell_type": "code",
   "execution_count": 23,
   "outputs": [
    {
     "name": "stdout",
     "output_type": "stream",
     "text": [
      "[]\n"
     ]
    }
   ],
   "source": [
    "def get_loc_list(text):\n",
    "    loc_list = []  # 人名列表\n",
    "    word_list = jieba.lcut(text)\n",
    "    # print(word_list)\n",
    "    for word in word_list:\n",
    "        if len(word)==1:  # 不加判断会爆\n",
    "            continue\n",
    "        words = pseg.cut(word, use_paddle=True)  # paddle模式\n",
    "        # print(list(words))\n",
    "        word, flag = list(words)[0]\n",
    "        if flag=='LOC' or flag=='ORG':  # 这里写成LOC是地名\n",
    "            loc_list.append(word)\n",
    "    loc_list = list(set(loc_list))\n",
    "    return loc_list\n",
    "\n",
    "\n",
    "text = '游戏发售后被评级组织ESRB改评为AO(仅限成人)级，已经售出上百万份的游戏'\n",
    "loc_list = get_loc_list(text)\n",
    "print(loc_list)\n"
   ],
   "metadata": {
    "collapsed": false,
    "pycharm": {
     "name": "#%%\n"
    }
   }
  },
  {
   "cell_type": "code",
   "execution_count": 11,
   "outputs": [],
   "source": [],
   "metadata": {
    "collapsed": false,
    "pycharm": {
     "name": "#%%\n"
    }
   }
  },
  {
   "cell_type": "code",
   "execution_count": 11,
   "outputs": [],
   "source": [],
   "metadata": {
    "collapsed": false,
    "pycharm": {
     "name": "#%%\n"
    }
   }
  },
  {
   "cell_type": "code",
   "execution_count": 11,
   "outputs": [],
   "source": [],
   "metadata": {
    "collapsed": false,
    "pycharm": {
     "name": "#%%\n"
    }
   }
  },
  {
   "cell_type": "code",
   "execution_count": 11,
   "outputs": [],
   "source": [],
   "metadata": {
    "collapsed": false,
    "pycharm": {
     "name": "#%%\n"
    }
   }
  },
  {
   "cell_type": "code",
   "execution_count": 11,
   "outputs": [],
   "source": [],
   "metadata": {
    "collapsed": false,
    "pycharm": {
     "name": "#%%\n"
    }
   }
  },
  {
   "cell_type": "code",
   "execution_count": 11,
   "outputs": [],
   "source": [],
   "metadata": {
    "collapsed": false,
    "pycharm": {
     "name": "#%%\n"
    }
   }
  },
  {
   "cell_type": "code",
   "execution_count": 11,
   "outputs": [],
   "source": [],
   "metadata": {
    "collapsed": false,
    "pycharm": {
     "name": "#%%\n"
    }
   }
  },
  {
   "cell_type": "code",
   "execution_count": 11,
   "outputs": [],
   "source": [],
   "metadata": {
    "collapsed": false,
    "pycharm": {
     "name": "#%%\n"
    }
   }
  },
  {
   "cell_type": "code",
   "execution_count": null,
   "outputs": [],
   "source": [
    "\n"
   ],
   "metadata": {
    "collapsed": false,
    "pycharm": {
     "name": "#%%\n"
    }
   }
  }
 ],
 "metadata": {
  "kernelspec": {
   "display_name": "Python 3",
   "language": "python",
   "name": "python3"
  },
  "language_info": {
   "codemirror_mode": {
    "name": "ipython",
    "version": 2
   },
   "file_extension": ".py",
   "mimetype": "text/x-python",
   "name": "python",
   "nbconvert_exporter": "python",
   "pygments_lexer": "ipython2",
   "version": "2.7.6"
  }
 },
 "nbformat": 4,
 "nbformat_minor": 0
}